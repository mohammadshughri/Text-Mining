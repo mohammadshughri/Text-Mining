{
 "cells": [
  {
   "metadata": {},
   "cell_type": "markdown",
   "source": [
    "# Home Assignment 2\n",
    "- Giulia Luongo 10076102\n",
    "- Mohammad Sukri 10062921\n",
    "- Samer Sakor 10074501"
   ],
   "id": "90d0d5842cc5a961"
  },
  {
   "metadata": {},
   "cell_type": "markdown",
   "source": "## CNN Classification",
   "id": "b29cadd4bf1d4472"
  },
  {
   "metadata": {},
   "cell_type": "code",
   "outputs": [],
   "execution_count": null,
   "source": "",
   "id": "430ac529c35a0dba"
  },
  {
   "metadata": {},
   "cell_type": "markdown",
   "source": "",
   "id": "eba62eb94730b138"
  },
  {
   "metadata": {},
   "cell_type": "markdown",
   "source": "## RNN",
   "id": "34cc64c2373e57e1"
  },
  {
   "metadata": {},
   "cell_type": "code",
   "outputs": [],
   "execution_count": null,
   "source": "",
   "id": "ce0803b30aa6d789"
  },
  {
   "metadata": {},
   "cell_type": "markdown",
   "source": "",
   "id": "bbe9de510b08bf14"
  },
  {
   "metadata": {},
   "cell_type": "markdown",
   "source": "## Sequence-to-Sequence Modeling",
   "id": "51d8741c2dc96e48"
  },
  {
   "metadata": {},
   "cell_type": "code",
   "outputs": [],
   "execution_count": null,
   "source": "",
   "id": "c136cea315b37d7e"
  }
 ],
 "metadata": {
  "kernelspec": {
   "display_name": "Python 3",
   "language": "python",
   "name": "python3"
  },
  "language_info": {
   "codemirror_mode": {
    "name": "ipython",
    "version": 2
   },
   "file_extension": ".py",
   "mimetype": "text/x-python",
   "name": "python",
   "nbconvert_exporter": "python",
   "pygments_lexer": "ipython2",
   "version": "2.7.6"
  }
 },
 "nbformat": 4,
 "nbformat_minor": 5
}
