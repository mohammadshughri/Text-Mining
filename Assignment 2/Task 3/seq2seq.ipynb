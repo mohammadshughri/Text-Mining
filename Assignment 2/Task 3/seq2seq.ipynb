{
 "cells": [
  {
   "cell_type": "markdown",
   "id": "c899f2e6",
   "metadata": {},
   "source": [
    "# Task 3: Sequence-to-Sequence Modeling\n",
    "- Giulia Luongo 10076102\n",
    "- Mohammad Sukri 10062921\n",
    "- Samer Sakor 10074501"
   ]
  },
  {
   "cell_type": "code",
   "id": "2a7242d4",
   "metadata": {
    "ExecuteTime": {
     "end_time": "2025-06-18T07:47:03.072002Z",
     "start_time": "2025-06-18T07:47:03.058513Z"
    }
   },
   "source": [
    "# Import core data manipulation libraries\n",
    "import pandas as pd\n",
    "\n",
    "# Import PyTorch for deep learning\n",
    "import torch\n",
    "from torch.utils.data import Dataset, DataLoader\n",
    "\n",
    "# Import model and tokenizer from HuggingFace Transformers\n",
    "from transformers import T5Tokenizer, T5ForConditionalGeneration\n",
    "\n",
    "# Import data splitting utility\n",
    "from sklearn.model_selection import train_test_split\n",
    "\n",
    "# For training visualization\n",
    "import matplotlib.pyplot as plt\n",
    "\n",
    "# For progress bars\n",
    "from tqdm import tqdm\n"
   ],
   "outputs": [],
   "execution_count": 27
  },
  {
   "cell_type": "code",
   "id": "64c4a048",
   "metadata": {
    "ExecuteTime": {
     "end_time": "2025-06-17T15:00:01.573195Z",
     "start_time": "2025-06-17T15:00:01.096019Z"
    }
   },
   "source": [
    "# Load dataset\n",
    "df = pd.read_csv(\"topical_chat_pairs.csv\", delimiter=\"\\t\")\n",
    "\n",
    "# Add <SOS> and <EOS> tokens to the beginning and end of each answer\n",
    "# These help the model learn where generation starts and ends\n",
    "df[\"answer\"] = df[\"answer\"].apply(lambda x: \"<SOS> \" + x.strip() + \" <EOS>\")\n",
    "\n",
    "# Split the dataset:\n",
    "# - 80% training\n",
    "# - 10% validation\n",
    "# - 10% testing\n",
    "train_df, temp_df = train_test_split(df, test_size=0.2, random_state=42)\n",
    "val_df, test_df = train_test_split(temp_df, test_size=0.5, random_state=42)\n",
    "\n",
    "# Print the sizes of each split\n",
    "print(f\"Train size: {len(train_df)}, Val size: {len(val_df)}, Test size: {len(test_df)}\")\n"
   ],
   "outputs": [
    {
     "name": "stdout",
     "output_type": "stream",
     "text": [
      "Train size: 143800, Val size: 17975, Test size: 17975\n"
     ]
    }
   ],
   "execution_count": 19
  },
  {
   "cell_type": "code",
   "id": "af1b64ef",
   "metadata": {
    "ExecuteTime": {
     "end_time": "2025-06-17T15:00:05.721877Z",
     "start_time": "2025-06-17T15:00:05.026999Z"
    }
   },
   "source": [
    "# Load the pretrained T5 tokenizer\n",
    "# This tokenizer will convert text to input IDs and attention masks suitable for the T5 model\n",
    "tokenizer = T5Tokenizer.from_pretrained(\"t5-small\")\n",
    "\n",
    "# Define a helper function to tokenize a batch of message-answer pairs\n",
    "def tokenize_batch(df, max_input_length=64, max_output_length=64):\n",
    "    # Tokenize the input messages\n",
    "    inputs = tokenizer.batch_encode_plus(\n",
    "        df[\"message\"].tolist(),              # List of input texts\n",
    "        max_length=max_input_length,         # Max token length for input\n",
    "        truncation=True,                     # Truncate inputs that exceed max length\n",
    "        padding=\"max_length\",                # Pad inputs to the max length\n",
    "        return_tensors=\"pt\"                  # Return as PyTorch tensors\n",
    "    )\n",
    "\n",
    "    # Tokenize the output answers\n",
    "    targets = tokenizer.batch_encode_plus(\n",
    "        df[\"answer\"].tolist(),               # List of output texts\n",
    "        max_length=max_output_length,        # Max token length for output\n",
    "        truncation=True,                     # Truncate outputs that exceed max length\n",
    "        padding=\"max_length\",                # Pad outputs to the max length\n",
    "        return_tensors=\"pt\"                  # Return as PyTorch tensors\n",
    "    )\n",
    "\n",
    "    return inputs, targets  # Return the tokenized inputs and targets as dicts\n"
   ],
   "outputs": [],
   "execution_count": 20
  },
  {
   "cell_type": "code",
   "id": "b1d8fc4e",
   "metadata": {
    "ExecuteTime": {
     "end_time": "2025-06-17T15:01:04.005588Z",
     "start_time": "2025-06-17T15:01:03.996663Z"
    }
   },
   "source": [
    "# Define a custom PyTorch Dataset to wrap the tokenized input and target data\n",
    "class ChatDataset(Dataset):\n",
    "    def __init__(self, input_encodings, target_encodings):\n",
    "        # Store the tokenized input and target sequences\n",
    "        self.input_encodings = input_encodings\n",
    "        self.target_encodings = target_encodings\n",
    "\n",
    "    def __len__(self):\n",
    "        # Return the number of examples in the dataset\n",
    "        return len(self.input_encodings[\"input_ids\"])\n",
    "\n",
    "    def __getitem__(self, idx):\n",
    "        # Return a single training example (as a dictionary of tensors)\n",
    "        item = {\n",
    "            \"input_ids\": self.input_encodings[\"input_ids\"][idx],             # Tokenized input sequence\n",
    "            \"attention_mask\": self.input_encodings[\"attention_mask\"][idx],   # Mask to avoid attending to padding\n",
    "            \"labels\": self.target_encodings[\"input_ids\"][idx],               # Tokenized target sequence\n",
    "        }\n",
    "\n",
    "        # Set padding tokens in labels to -100 so they're ignored by the loss function\n",
    "        item[\"labels\"][item[\"labels\"] == tokenizer.pad_token_id] = -100\n",
    "        return item\n"
   ],
   "outputs": [],
   "execution_count": 21
  },
  {
   "cell_type": "code",
   "id": "43e27629",
   "metadata": {
    "ExecuteTime": {
     "end_time": "2025-06-17T15:02:27.525535Z",
     "start_time": "2025-06-17T15:01:54.111948Z"
    }
   },
   "source": [
    "# Tokenize each dataset split using the helper function\n",
    "train_inputs, train_targets = tokenize_batch(train_df)\n",
    "val_inputs, val_targets = tokenize_batch(val_df)\n",
    "test_inputs, test_targets = tokenize_batch(test_df)\n",
    "\n",
    "# Wrap each tokenized split into a PyTorch Dataset\n",
    "# This allows us to iterate over batches of data during training\n",
    "train_dataset = ChatDataset(train_inputs, train_targets)\n",
    "val_dataset = ChatDataset(val_inputs, val_targets)\n",
    "test_dataset = ChatDataset(test_inputs, test_targets)\n",
    "\n",
    "# Create DataLoaders for batching and shuffling\n",
    "# - Shuffle is enabled for the training set only\n",
    "# - Batch size of 16 is used for train/val, and 1 for test generation\n",
    "train_loader = DataLoader(train_dataset, batch_size=16, shuffle=True)\n",
    "val_loader = DataLoader(val_dataset, batch_size=16)\n",
    "test_loader = DataLoader(test_dataset, batch_size=1)\n"
   ],
   "outputs": [],
   "execution_count": 22
  },
  {
   "cell_type": "code",
   "id": "ed846432",
   "metadata": {
    "ExecuteTime": {
     "end_time": "2025-06-17T15:03:01.722237Z",
     "start_time": "2025-06-17T15:02:54.499100Z"
    }
   },
   "source": [
    "# Load the pretrained T5 model for conditional generation (seq2seq)\n",
    "# This model can generate answers conditioned on the input message\n",
    "model = T5ForConditionalGeneration.from_pretrained(\"t5-small\")\n",
    "\n",
    "# Move the model to GPU if available, otherwise use CPU\n",
    "device = torch.device(\"cuda\" if torch.cuda.is_available() else \"cpu\")\n",
    "model = model.to(device)\n",
    "\n",
    "# Set up the AdamW optimizer (recommended for transformer models)\n",
    "# Learning rate is set to 5e-5\n",
    "optimizer = torch.optim.AdamW(model.parameters(), lr=5e-5)\n"
   ],
   "outputs": [],
   "execution_count": 23
  },
  {
   "cell_type": "code",
   "id": "379ffc88",
   "metadata": {
    "ExecuteTime": {
     "end_time": "2025-06-18T06:45:03.814300Z",
     "start_time": "2025-06-17T15:03:32.082791Z"
    }
   },
   "source": [
    "# Training loop for the sequence-to-sequence model\n",
    "epochs = 3  # Number of training epochs\n",
    "train_losses = []  # To store average training loss per epoch\n",
    "val_losses = []    # To store average validation loss per epoch\n",
    "\n",
    "for epoch in range(epochs):\n",
    "    model.train()  # Set model to training mode\n",
    "    total_train_loss = 0  # Track cumulative loss\n",
    "\n",
    "    # Loop through training batches with progress bar\n",
    "    for batch in tqdm(train_loader, desc=f\"Epoch {epoch+1} - Training\"):\n",
    "        # Move batch to GPU/CPU\n",
    "        batch = {k: v.to(device) for k, v in batch.items()}\n",
    "\n",
    "        # Forward pass\n",
    "        outputs = model(**batch)\n",
    "        loss = outputs.loss\n",
    "        total_train_loss += loss.item()\n",
    "\n",
    "        # Backward pass and optimization step\n",
    "        optimizer.zero_grad()\n",
    "        loss.backward()\n",
    "        optimizer.step()\n",
    "\n",
    "    # Compute and store average training loss\n",
    "    avg_train_loss = total_train_loss / len(train_loader)\n",
    "    train_losses.append(avg_train_loss)\n",
    "\n",
    "    # Validation loop\n",
    "    model.eval()  # Set model to evaluation mode\n",
    "    total_val_loss = 0\n",
    "\n",
    "    with torch.no_grad():  # Disable gradient computation\n",
    "        for batch in val_loader:\n",
    "            batch = {k: v.to(device) for k, v in batch.items()}\n",
    "            outputs = model(**batch)\n",
    "            loss = outputs.loss\n",
    "            total_val_loss += loss.item()\n",
    "\n",
    "    # Compute and store average validation loss\n",
    "    avg_val_loss = total_val_loss / len(val_loader)\n",
    "    val_losses.append(avg_val_loss)\n",
    "\n",
    "    # Print epoch summary\n",
    "    print(f\"Epoch {epoch+1} | Train Loss: {avg_train_loss:.4f} | Val Loss: {avg_val_loss:.4f}\")\n"
   ],
   "outputs": [
    {
     "name": "stderr",
     "output_type": "stream",
     "text": [
      "Epoch 1 - Training:   0%|          | 0/8988 [00:00<?, ?it/s]Passing a tuple of `past_key_values` is deprecated and will be removed in Transformers v4.48.0. You should pass an instance of `EncoderDecoderCache` instead, e.g. `past_key_values=EncoderDecoderCache.from_legacy_cache(past_key_values)`.\n",
      "Epoch 1 - Training: 100%|██████████| 8988/8988 [3:50:32<00:00,  1.54s/it]  \n"
     ]
    },
    {
     "name": "stdout",
     "output_type": "stream",
     "text": [
      "Epoch 1 | Train Loss: 2.7483 | Val Loss: 2.5030\n"
     ]
    },
    {
     "name": "stderr",
     "output_type": "stream",
     "text": [
      "Epoch 2 - Training: 100%|██████████| 8988/8988 [2:31:08<00:00,  1.01s/it]  \n"
     ]
    },
    {
     "name": "stdout",
     "output_type": "stream",
     "text": [
      "Epoch 2 | Train Loss: 2.5911 | Val Loss: 2.4214\n"
     ]
    },
    {
     "name": "stderr",
     "output_type": "stream",
     "text": [
      "Epoch 3 - Training: 100%|██████████| 8988/8988 [9:06:39<00:00,  3.65s/it]     \n"
     ]
    },
    {
     "name": "stdout",
     "output_type": "stream",
     "text": [
      "Epoch 3 | Train Loss: 2.5178 | Val Loss: 2.3704\n"
     ]
    }
   ],
   "execution_count": 24
  },
  {
   "cell_type": "code",
   "id": "a9471303",
   "metadata": {
    "ExecuteTime": {
     "end_time": "2025-06-18T07:17:00.993389Z",
     "start_time": "2025-06-18T07:17:00.585872Z"
    }
   },
   "source": [
    "# Plot training and validation loss curves for each epoch\n",
    "plt.figure(figsize=(8, 5))  # Set figure size\n",
    "\n",
    "# Plot the recorded training and validation losses\n",
    "plt.plot(train_losses, label=\"Train Loss\")\n",
    "plt.plot(val_losses, label=\"Validation Loss\")\n",
    "\n",
    "# Add axis labels and a title\n",
    "plt.xlabel(\"Epoch\")\n",
    "plt.ylabel(\"Loss\")\n",
    "plt.title(\"Training and Validation Loss\")\n",
    "\n",
    "# Show legend and grid for better readability\n",
    "plt.legend()\n",
    "plt.grid(True)\n",
    "\n",
    "# Display the plot\n",
    "plt.show()\n"
   ],
   "outputs": [
    {
     "data": {
      "text/plain": [
       "<Figure size 800x500 with 1 Axes>"
      ],
      "image/png": "[encoded data removed]"
     },
     "metadata": {},
     "output_type": "display_data"
    }
   ],
   "execution_count": 25
  },
  {
   "metadata": {
    "ExecuteTime": {
     "end_time": "2025-06-18T07:18:14.468870Z",
     "start_time": "2025-06-18T07:18:13.363331Z"
    }
   },
   "cell_type": "code",
   "source": [
    "# Define a function to generate a response using Top-k sampling\n",
    "def generate_response(input_text, k=50, max_length=64):\n",
    "    model.eval()  # Set model to evaluation mode\n",
    "\n",
    "    # Tokenize the input message and move it to the correct device (CPU/GPU)\n",
    "    input_ids = tokenizer.encode(\n",
    "        input_text,\n",
    "        return_tensors=\"pt\",\n",
    "        truncation=True,\n",
    "        max_length=64\n",
    "    ).to(device)\n",
    "\n",
    "    # Generate output token IDs using Top-k sampling\n",
    "    output_ids = model.generate(\n",
    "        input_ids,\n",
    "        do_sample=True,              # Enable sampling instead of greedy decoding\n",
    "        top_k=k,                     # Top-k sampling: randomly sample from top k tokens\n",
    "        max_length=max_length,       # Max length of the generated output\n",
    "        num_return_sequences=1,      # Generate one response\n",
    "        eos_token_id=tokenizer.eos_token_id  # Stop generation at EOS token\n",
    "    )\n",
    "\n",
    "    # Decode the generated token IDs to string and skip special tokens\n",
    "    return tokenizer.decode(output_ids[0], skip_special_tokens=True)\n",
    "\n",
    "# Generate and display predictions for 5 random examples from the test set\n",
    "print(\"Sample Predictions:\\n\")\n",
    "for i in range(5):\n",
    "    input_text = test_df.iloc[i][\"message\"]  # Get input message\n",
    "    reference = test_df.iloc[i][\"answer\"].replace(\"<SOS> \", \"\").replace(\" <EOS>\", \"\")  # Clean reference answer\n",
    "    generated = generate_response(input_text)  # Generate model response\n",
    "\n",
    "    # Print input, reference, and generated output\n",
    "    print(f\"Input:      {input_text}\")\n",
    "    print(f\"Reference:  {reference}\")\n",
    "    print(f\"Generated:  {generated}\")\n",
    "    print(\"-\" * 80)\n"
   ],
   "id": "b3aa5ea9a6624015",
   "outputs": [
    {
     "name": "stdout",
     "output_type": "stream",
     "text": [
      "Sample Predictions:\n",
      "\n",
      "Input:       That is a good point, you are probably right.  Do you know that the instrument that makes all those metal sounding noises in horror movies is called?\n",
      "Reference:  Yeah, I heard it was called a waterphone! Did you know that if you watch a horror film before viewing abstract are you actually enjoy the art more?\n",
      "Generated:  SOS> I wonder if that sounds like the exact same as the name for that. EOS>\n",
      "--------------------------------------------------------------------------------\n",
      "Input:       When I lived in California a lot of people were catching on to using goats, too, and would rent them. I wonder if Google still lets you take your pet to work?\n",
      "Reference:  That's hard to say. Did you know that a single Google search requires more computing power than it took to send Neil Armstrong and eleven other astronauts to the the moon?\n",
      "Generated:  SOS> That is interesting. The internet is much better for mobile and web traffic. Have you heard of Google? EOS>\n",
      "--------------------------------------------------------------------------------\n",
      "Input:       Haha, yeah, you're right. Good chatting with you.\n",
      "Reference:  Bye!\n",
      "Generated:  SOS> I agree. EOS>\n",
      "--------------------------------------------------------------------------------\n",
      "Input:       hi how are you? what do you think of our species?\n",
      "Reference:  I feel humans have come such a long way, what do you think about humans\n",
      "Generated:  SOS> I am very, very much. We're some species not at all! EOS>\n",
      "--------------------------------------------------------------------------------\n",
      "Input:       Have a good night!\n",
      "Reference:  Alright. I think I may go watch that Ant Man now\n",
      "Generated:  SOS> Thanks! EOS>\n",
      "--------------------------------------------------------------------------------\n"
     ]
    }
   ],
   "execution_count": 26
  }
 ],
 "metadata": {
  "kernelspec": {
   "display_name": "Python 3 (ipykernel)",
   "language": "python",
   "name": "python3"
  },
  "language_info": {
   "codemirror_mode": {
    "name": "ipython",
    "version": 3
   },
   "file_extension": ".py",
   "mimetype": "text/x-python",
   "name": "python",
   "nbconvert_exporter": "python",
   "pygments_lexer": "ipython3",
   "version": "3.13.3"
  }
 },
 "nbformat": 4,
 "nbformat_minor": 5
}
